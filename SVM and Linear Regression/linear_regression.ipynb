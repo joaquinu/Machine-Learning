{
 "cells": [
  {
   "cell_type": "markdown",
   "metadata": {},
   "source": [
    "# Gradient Descent and Linear Regression"
   ]
  },
  {
   "cell_type": "markdown",
   "metadata": {},
   "source": [
    "![title](Images/gradient_descent_example.gif)\n",
    "\n",
    "\n",
    "\n",
    "\n",
    "\n",
    "\n",
    "\n",
    "\n",
    "\n",
    "\n",
    "\n",
    "\n",
    "\n",
    "\n",
    "\n",
    "\n"
   ]
  },
  {
   "cell_type": "markdown",
   "metadata": {},
   "source": [
    "\n",
    "\n",
    "\n",
    "\n",
    "\n",
    "\n",
    "\n",
    "\n",
    "\n",
    "\n",
    "\n",
    "\n",
    "\n",
    "\n",
    "\n",
    "\n",
    "\n",
    "\n",
    "\n",
    "\n"
   ]
  },
  {
   "cell_type": "markdown",
   "metadata": {},
   "source": [
    "![title](Images/linear_regression_error1.png)"
   ]
  },
  {
   "cell_type": "markdown",
   "metadata": {},
   "source": [
    "\n",
    "\n",
    "\n",
    "\n",
    "\n",
    "\n",
    "\n",
    "\n",
    "\n",
    "\n",
    "\n",
    "\n",
    "\n",
    "\n",
    "\n",
    "\n",
    "\n",
    "\n",
    "\n",
    "\n",
    "\n",
    "\n",
    "\n",
    "\n",
    "\n",
    "\n",
    "\n"
   ]
  },
  {
   "cell_type": "markdown",
   "metadata": {},
   "source": [
    "![title](Images/linear_regression_gradient1.png)"
   ]
  },
  {
   "cell_type": "code",
   "execution_count": 42,
   "metadata": {},
   "outputs": [],
   "source": [
    "from numpy import *\n",
    "\n",
    "# Linear Regression\n",
    "\n",
    "def get_error_from_points(b, m, points):\n",
    "\ttotal_error = 0\n",
    "\tfor i in range(0, len(points)):\n",
    "\t\tx = points[i, 0]\n",
    "\t\ty = points[i, 1]\n",
    "\t\ttotal_error += (y - (m * x + b)) **2\n",
    "\treturn total_error / float(len(points))\n",
    "\n",
    "\n",
    "def step_gradient(c_b, c_m, points, learning_rate):\n",
    "\t#gradient descent\n",
    "\tb_gr = 0\n",
    "\tm_gr = 0\n",
    "\tN = float(len(points))\n",
    "\tfor i in range(0, len(points)):\n",
    "\t\tx = points[i,0]\n",
    "\t\ty = points[i,1]\n",
    "\t\tb_gr += -(2/N) * (y - ((c_m * x) + c_b))\n",
    "\t\tm_gr += -(2/N) * x * (y - ((c_m * x) + c_b))\n",
    "\tnew_b = c_b - (learning_rate * b_gr)\n",
    "\tnew_m = c_m - (learning_rate * m_gr)\n",
    "\treturn [new_b, new_m]\n",
    "\n",
    "\n",
    "def gradient_descent_fn(points,s_b, s_m, learning_rate, num_iterations):\n",
    "\tb = s_b\n",
    "\tm = s_m\n",
    "\n",
    "\tfor i in range(num_iterations):\n",
    "\t\tb, m = step_gradient(b, m, array(points), learning_rate)\n",
    "\treturn [b, m]\n",
    "\n",
    "def run():\n",
    "\tpoints = genfromtxt('data.csv', delimiter=',')\n",
    "\t#hyperparameters // Alpha\n",
    "\tlearning_rate = 0.0001\n",
    "\t# y = mx+b //ecuacion  de la recta\n",
    "\tinitial_b = 0\n",
    "\tinitial_m = 0\n",
    "\tnum_iterations = 1000\n",
    "\tprint(\"Starting gradient descent at b = {0}, m = {1}, error = {2}\".format(initial_b, initial_m, get_error_from_points(initial_b, initial_m, points)))\n",
    "\tprint(\"Running...\")\n",
    "\t[b, m] = gradient_descent_fn(points, initial_b, initial_m, learning_rate, num_iterations)\n",
    "\tprint(\"After {0} iterations b = {1}, m = {2}, error = {3}\".format(num_iterations, b, m, get_error_from_points(b, m, points)))"
   ]
  },
  {
   "cell_type": "code",
   "execution_count": 43,
   "metadata": {},
   "outputs": [
    {
     "name": "stdout",
     "output_type": "stream",
     "text": [
      "Starting gradient descent at b = 0, m = 0, error = 5565.107834483211\n",
      "Running...\n",
      "After 10000 iterations b = 0.6078985997054931, m = 1.4675440436333027, error = 112.31533427075733\n"
     ]
    }
   ],
   "source": [
    "\n",
    "run()"
   ]
  }
 ],
 "metadata": {
  "kernelspec": {
   "display_name": "Python 3",
   "language": "python",
   "name": "python3"
  },
  "language_info": {
   "codemirror_mode": {
    "name": "ipython",
    "version": 3
   },
   "file_extension": ".py",
   "mimetype": "text/x-python",
   "name": "python",
   "nbconvert_exporter": "python",
   "pygments_lexer": "ipython3",
   "version": "3.6.5"
  }
 },
 "nbformat": 4,
 "nbformat_minor": 2
}
